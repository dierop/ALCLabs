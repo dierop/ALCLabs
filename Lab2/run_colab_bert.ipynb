{
  "cells": [
    {
      "cell_type": "code",
      "source": [
        "!pip install pyevall"
      ],
      "metadata": {
        "id": "ViJa0aADL5Ex",
        "outputId": "caa24aac-c9f3-4efe-c985-22cc5de27197",
        "colab": {
          "base_uri": "https://localhost:8080/"
        }
      },
      "execution_count": 1,
      "outputs": [
        {
          "output_type": "stream",
          "name": "stdout",
          "text": [
            "Requirement already satisfied: pyevall in /usr/local/lib/python3.11/dist-packages (0.1.71)\n",
            "Requirement already satisfied: jsbeautifier==1.14.9 in /usr/local/lib/python3.11/dist-packages (from pyevall) (1.14.9)\n",
            "Requirement already satisfied: jsonschema==4.21.1 in /usr/local/lib/python3.11/dist-packages (from pyevall) (4.21.1)\n",
            "Requirement already satisfied: numpy==1.26.4 in /usr/local/lib/python3.11/dist-packages (from pyevall) (1.26.4)\n",
            "Requirement already satisfied: pandas==2.2.1 in /usr/local/lib/python3.11/dist-packages (from pyevall) (2.2.1)\n",
            "Requirement already satisfied: setuptools==68.0.0 in /usr/local/lib/python3.11/dist-packages (from pyevall) (68.0.0)\n",
            "Requirement already satisfied: tabulate==0.9.0 in /usr/local/lib/python3.11/dist-packages (from pyevall) (0.9.0)\n",
            "Requirement already satisfied: six>=1.13.0 in /usr/local/lib/python3.11/dist-packages (from jsbeautifier==1.14.9->pyevall) (1.17.0)\n",
            "Requirement already satisfied: editorconfig>=0.12.2 in /usr/local/lib/python3.11/dist-packages (from jsbeautifier==1.14.9->pyevall) (0.17.0)\n",
            "Requirement already satisfied: attrs>=22.2.0 in /usr/local/lib/python3.11/dist-packages (from jsonschema==4.21.1->pyevall) (25.1.0)\n",
            "Requirement already satisfied: jsonschema-specifications>=2023.03.6 in /usr/local/lib/python3.11/dist-packages (from jsonschema==4.21.1->pyevall) (2024.10.1)\n",
            "Requirement already satisfied: referencing>=0.28.4 in /usr/local/lib/python3.11/dist-packages (from jsonschema==4.21.1->pyevall) (0.36.2)\n",
            "Requirement already satisfied: rpds-py>=0.7.1 in /usr/local/lib/python3.11/dist-packages (from jsonschema==4.21.1->pyevall) (0.23.1)\n",
            "Requirement already satisfied: python-dateutil>=2.8.2 in /usr/local/lib/python3.11/dist-packages (from pandas==2.2.1->pyevall) (2.8.2)\n",
            "Requirement already satisfied: pytz>=2020.1 in /usr/local/lib/python3.11/dist-packages (from pandas==2.2.1->pyevall) (2025.1)\n",
            "Requirement already satisfied: tzdata>=2022.7 in /usr/local/lib/python3.11/dist-packages (from pandas==2.2.1->pyevall) (2025.1)\n",
            "Requirement already satisfied: typing-extensions>=4.4.0 in /usr/local/lib/python3.11/dist-packages (from referencing>=0.28.4->jsonschema==4.21.1->pyevall) (4.12.2)\n"
          ]
        }
      ]
    },
    {
      "cell_type": "code",
      "source": [
        "!git clone https://github.com/dierop/ALCLabs"
      ],
      "metadata": {
        "id": "6la8ZOlOKnMQ",
        "outputId": "93b45bb5-e390-4662-ecc7-beede6a36629",
        "colab": {
          "base_uri": "https://localhost:8080/"
        }
      },
      "execution_count": 2,
      "outputs": [
        {
          "output_type": "stream",
          "name": "stdout",
          "text": [
            "fatal: destination path 'ALCLabs' already exists and is not an empty directory.\n"
          ]
        }
      ]
    },
    {
      "cell_type": "code",
      "source": [
        "cd ALCLabs/Lab2/\n"
      ],
      "metadata": {
        "id": "eaz6IBGtLPKR",
        "outputId": "b0841051-a3d9-4331-cbf0-1a984ba0daa2",
        "colab": {
          "base_uri": "https://localhost:8080/"
        }
      },
      "execution_count": 7,
      "outputs": [
        {
          "output_type": "stream",
          "name": "stdout",
          "text": [
            "/content/ALCLabs/Lab2\n"
          ]
        }
      ]
    },
    {
      "cell_type": "code",
      "source": [
        "!git checkout update\n",
        "!git pull"
      ],
      "metadata": {
        "id": "LPMRXifxdzOX",
        "outputId": "e94714a6-e384-458c-a298-ddc0632cb325",
        "colab": {
          "base_uri": "https://localhost:8080/"
        }
      },
      "execution_count": 18,
      "outputs": [
        {
          "output_type": "stream",
          "name": "stdout",
          "text": [
            "Already on 'update'\n",
            "Your branch is up to date with 'origin/update'.\n",
            "remote: Enumerating objects: 19, done.\u001b[K\n",
            "remote: Counting objects: 100% (19/19), done.\u001b[K\n",
            "remote: Compressing objects: 100% (5/5), done.\u001b[K\n",
            "remote: Total 13 (delta 8), reused 13 (delta 8), pack-reused 0 (from 0)\u001b[K\n",
            "Unpacking objects: 100% (13/13), 5.13 KiB | 875.00 KiB/s, done.\n",
            "From https://github.com/dierop/ALCLabs\n",
            "   2aab2c3..10e06f5  update     -> origin/update\n",
            "Updating 2aab2c3..10e06f5\n",
            "Fast-forward\n",
            " Lab2/bert.py          |  6 \u001b[32m++++\u001b[m\u001b[31m--\u001b[m\n",
            " Lab2/classic.py       | 11 \u001b[32m+++++++\u001b[m\u001b[31m----\u001b[m\n",
            " Lab2/outputs/rf.json  |  1 \u001b[32m+\u001b[m\n",
            " Lab2/outputs/svc.json |  1 \u001b[32m+\u001b[m\n",
            " Lab2/resultados.py    | 23 \u001b[32m+++++++++++++\u001b[m\u001b[31m----------\u001b[m\n",
            " Lab2/runs.ipynb       | 63 \u001b[32m+++++++++++++++++++++++++++++++++++++++++++++++++++++++++++++\u001b[m\u001b[31m--\u001b[m\n",
            " 6 files changed, 87 insertions(+), 18 deletions(-)\n",
            " create mode 100644 Lab2/outputs/rf.json\n",
            " create mode 100644 Lab2/outputs/svc.json\n"
          ]
        }
      ]
    },
    {
      "cell_type": "code",
      "source": [
        "!ls"
      ],
      "metadata": {
        "id": "_ilzurCgK1iM",
        "outputId": "bd8fbb40-5b90-4ed8-f21f-e28961368810",
        "colab": {
          "base_uri": "https://localhost:8080/"
        }
      },
      "execution_count": 13,
      "outputs": [
        {
          "output_type": "stream",
          "name": "stdout",
          "text": [
            "bert.py     data\t   evaluate.py\t  __pycache__\t  resultados.py\n",
            "classic.py  dataloader.py  preprocess.py  pyproject.toml  runs.ipynb\n"
          ]
        }
      ]
    },
    {
      "cell_type": "code",
      "source": [
        "from preprocess import preprocess_data\n",
        "from classic import train_and_evaluate\n",
        "from sklearn.model_selection import train_test_split\n",
        "import pandas as pd\n",
        "from bert import train_and_evaluate_bert\n",
        "from evaluate import store_results\n",
        "from dataloader import load_data_json, load_test_json, load_data_csv, load_blip_csv\n",
        "\n",
        "\n",
        "# Datos\n",
        "path = \"data/\" # add Lab2/data if run from outisde Lab2\n",
        "train_data_path = f\"{path}lab2_materials/dataset_task4_exist2025/training.json\"\n",
        "train_data_path_blip = f'{path}lab2_materials/dataset_task4_exist2025/blip_captions_training.csv'\n",
        "train_data_path_mami = f'{path}mami_dataset/training_mami.csv'\n",
        "\n",
        "test_data_path = f\"{path}lab2_materials/dataset_task4_exist2025/test.json\"\n",
        "test_data_path_blip = f'{path}lab2_materials/dataset_task4_exist2025/blip_captions_test.csv'\n",
        "test_data_path_mami = f'{path}mami_dataset/test_mami.csv'\n",
        "\n",
        "def main(blip=0, mami=False, gen_test=False):\n",
        "    print(\"Blip: \", blip)\n",
        "    print(\"Mami: \", mami)\n",
        "    print(\"Gen Test: \", gen_test)\n",
        "    # Data Loader\n",
        "    train_data_meme = load_data_json(train_data_path)\n",
        "    train_data_blip = load_blip_csv(train_data_path_blip)\n",
        "    train_data_mami = load_data_csv(train_data_path_mami)\n",
        "\n",
        "    test_data_blip = load_blip_csv(test_data_path_blip)\n",
        "    test_data_mami = load_data_csv(test_data_path_mami)\n",
        "\n",
        "    # Conjunto a evaluar\n",
        "    test_data = load_test_json(test_data_path)\n",
        "\n",
        "    if blip == 1:\n",
        "        train_data_meme['text'] = train_data_blip['text']\n",
        "        test_data['text'] = test_data_blip['text']\n",
        "    elif blip == 2:\n",
        "        train_data_meme['text'] = train_data_meme['text'].astype(str)\n",
        "        train_data_blip['text'] = train_data_blip['text'].astype(str)\n",
        "        train_data_meme['text'] = train_data_meme['text'].str.cat(train_data_blip['text'], sep=' ')\n",
        "        test_data['text'] = test_data['text'].str.cat(test_data_blip['text'], sep=' ')\n",
        "\n",
        "\n",
        "\n",
        "    # Preprocesar datos\n",
        "    train_data_meme['text'] = train_data_meme['text'].apply(preprocess_data)\n",
        "    #train_data_blip['blip_caption'] = train_data_blip['blip_caption'].apply(preprocess_data)\n",
        "    train_data_mami['text'] = train_data_mami['text'].apply(preprocess_data)\n",
        "\n",
        "    test_data['text'] = test_data['text'].apply(preprocess_data)\n",
        "    #test_data_blip['blip_caption'] = test_data_blip['blip_caption'].apply(preprocess_data)\n",
        "    test_data_mami['text'] = test_data_mami['text'].apply(preprocess_data)\n",
        "\n",
        "\n",
        "    # Consolidado\n",
        "    X = train_data_meme['text']\n",
        "    y = train_data_meme['label']\n",
        "    X_train, X_test, y_train, y_test = train_test_split(X, y, test_size=0.2, random_state=42)\n",
        "\n",
        "    # Add MAMI data to train set\n",
        "    # It is used as data augmentation\n",
        "    if mami:\n",
        "        for data in [train_data_mami, test_data_mami]:\n",
        "            X = data['text']\n",
        "            y = data['label']\n",
        "            X_train = pd.concat([X_train, X], ignore_index=True)\n",
        "            y_train = pd.concat([y_train, y], ignore_index=True)\n",
        "\n",
        "    if not gen_test:\n",
        "    # Resultados SVC\n",
        "        # accuracy_svc, f1_svc, y_preds = train_and_evaluate(X_train, y_train, X_test, y_test, kernel=\"linear\", tpye=\"SVC\")\n",
        "        # print(\"SVC\")\n",
        "        # print(accuracy_svc, f1_svc)\n",
        "\n",
        "        # # Resultados RF\n",
        "        # accuracy_rf, f1_rf, y_preds = train_and_evaluate(X_train, y_train, X_test, y_test, kernel=\"linear\", tpye=\"RF\")\n",
        "        # print(\"RF\")\n",
        "        # print(accuracy_rf, f1_rf)\n",
        "\n",
        "        # Resultados BERT\n",
        "        accuracy_bert, f1_bert, y_preds = train_and_evaluate_bert(X_train.tolist()[:5000], y_train.tolist()[:5000], X_test.tolist(), y_test.tolist(), epochs=3, batch_size=16)\n",
        "        print(accuracy_bert, f1_bert)\n",
        "    else:\n",
        "        X_train = pd.concat([X_train, X_test], ignore_index=True)\n",
        "        y_train = pd.concat([y_train, y_test], ignore_index=True)\n",
        "        # Resultados BERT\n",
        "        y_preds = train_and_evaluate_bert(X_train.tolist()[:5000], y_train.tolist()[:5000], test_data['text'].tolist(), [0] * len(test_data['text']))\n",
        "        store_results(test_data['id'], y_preds, \"bert\", path=\"outputs\")\n",
        "\n",
        "        # # Resultados SVC\n",
        "        # y_preds = train_and_evaluate(X_train, y_train, test_data['text'], [], kernel=\"linear\", tpye=\"SVC\")\n",
        "        # store_results(test_data['id'], y_preds, \"svc\", path=\"outputs\")\n",
        "\n",
        "        # # Resultados RF\n",
        "        # _,_,y_preds = train_and_evaluate(X_train, y_train, test_data['text'], [], kernel=\"linear\", tpye=\"RF\")\n",
        "        # store_results(test_data['id'], y_preds, \"rf\", path=\"outputs\")"
      ],
      "metadata": {
        "id": "OrXt86oxbq_9"
      },
      "execution_count": 21,
      "outputs": []
    },
    {
      "cell_type": "code",
      "execution_count": 15,
      "metadata": {
        "id": "5EViqr5GKg4w",
        "outputId": "ede77a51-364d-4d38-946b-f2fb24e7a5f6",
        "colab": {
          "base_uri": "https://localhost:8080/"
        }
      },
      "outputs": [
        {
          "output_type": "stream",
          "name": "stdout",
          "text": [
            "Blip:  0\n",
            "Mami:  False\n",
            "Gen Test:  False\n"
          ]
        },
        {
          "output_type": "stream",
          "name": "stderr",
          "text": [
            "/usr/local/lib/python3.11/dist-packages/huggingface_hub/utils/_auth.py:94: UserWarning: \n",
            "The secret `HF_TOKEN` does not exist in your Colab secrets.\n",
            "To authenticate with the Hugging Face Hub, create a token in your settings tab (https://huggingface.co/settings/tokens), set it as secret in your Google Colab and restart your session.\n",
            "You will be able to reuse this secret in all of your notebooks.\n",
            "Please note that authentication is recommended but still optional to access public models or datasets.\n",
            "  warnings.warn(\n"
          ]
        },
        {
          "output_type": "stream",
          "name": "stdout",
          "text": [
            "Epoch 1/3, Loss: 0.6805\n",
            "Epoch 2/3, Loss: 0.6367\n",
            "Epoch 3/3, Loss: 0.5808\n",
            "0.6532 0.6569\n",
            "Blip:  1\n",
            "Mami:  False\n",
            "Gen Test:  False\n",
            "Epoch 1/3, Loss: 0.6828\n",
            "Epoch 2/3, Loss: 0.6759\n",
            "Epoch 3/3, Loss: 0.6562\n",
            "0.6055 0.5831\n",
            "Blip:  2\n",
            "Mami:  False\n",
            "Gen Test:  False\n",
            "Epoch 1/3, Loss: 0.6703\n",
            "Epoch 2/3, Loss: 0.6044\n",
            "Epoch 3/3, Loss: 0.4975\n",
            "0.6917 0.6862\n"
          ]
        }
      ],
      "source": [
        "\n",
        "for b in range(3):\n",
        "\n",
        "    main(b, False)\n"
      ]
    },
    {
      "cell_type": "code",
      "source": [
        "main(2, True)"
      ],
      "metadata": {
        "id": "8ogKAagnghcN",
        "outputId": "d934e288-4248-4702-9333-d3d0b71540cd",
        "colab": {
          "base_uri": "https://localhost:8080/"
        }
      },
      "execution_count": 16,
      "outputs": [
        {
          "output_type": "stream",
          "name": "stdout",
          "text": [
            "Blip:  2\n",
            "Mami:  True\n",
            "Gen Test:  False\n",
            "Epoch 1/3, Loss: 0.6334\n",
            "Epoch 2/3, Loss: 0.5658\n",
            "Epoch 3/3, Loss: 0.4782\n",
            "0.6752 0.6791\n"
          ]
        }
      ]
    },
    {
      "cell_type": "code",
      "source": [
        "main(0, True)"
      ],
      "metadata": {
        "id": "X9Dxzt1sq67X",
        "outputId": "4d8ea49e-2077-4e24-b5e9-0038a71742a7",
        "colab": {
          "base_uri": "https://localhost:8080/"
        }
      },
      "execution_count": 17,
      "outputs": [
        {
          "output_type": "stream",
          "name": "stdout",
          "text": [
            "Blip:  0\n",
            "Mami:  True\n",
            "Gen Test:  False\n",
            "Epoch 1/3, Loss: 0.6510\n",
            "Epoch 2/3, Loss: 0.5803\n",
            "Epoch 3/3, Loss: 0.5101\n",
            "0.6716 0.665\n"
          ]
        }
      ]
    },
    {
      "cell_type": "code",
      "source": [
        "main(2, False, True)"
      ],
      "metadata": {
        "id": "_5YoLkTHyALi",
        "outputId": "440a9965-44a0-466a-bf4b-29197bff0b7d",
        "colab": {
          "base_uri": "https://localhost:8080/"
        }
      },
      "execution_count": 22,
      "outputs": [
        {
          "output_type": "stream",
          "name": "stdout",
          "text": [
            "Blip:  2\n",
            "Mami:  False\n",
            "Gen Test:  True\n",
            "Epoch 1/3, Loss: 0.6770\n",
            "Epoch 2/3, Loss: 0.6163\n",
            "Epoch 3/3, Loss: 0.5372\n"
          ]
        }
      ]
    },
    {
      "cell_type": "code",
      "source": [
        "cd outputs/\n"
      ],
      "metadata": {
        "id": "0YIrv9PY10GR",
        "outputId": "e63a22c5-fd2f-440b-ff7b-9cebe76e7569",
        "colab": {
          "base_uri": "https://localhost:8080/"
        }
      },
      "execution_count": 25,
      "outputs": [
        {
          "output_type": "stream",
          "name": "stdout",
          "text": [
            "/content/ALCLabs/Lab2/outputs\n"
          ]
        }
      ]
    },
    {
      "cell_type": "code",
      "source": [
        "dowload bert.json"
      ],
      "metadata": {
        "id": "enWNNF4P3FLh",
        "outputId": "ca7a7dba-0ea4-42bb-d7f7-83357dcdb881",
        "colab": {
          "base_uri": "https://localhost:8080/",
          "height": 106
        }
      },
      "execution_count": 27,
      "outputs": [
        {
          "output_type": "error",
          "ename": "SyntaxError",
          "evalue": "invalid syntax (<ipython-input-27-6de5e4f0ad7f>, line 1)",
          "traceback": [
            "\u001b[0;36m  File \u001b[0;32m\"<ipython-input-27-6de5e4f0ad7f>\"\u001b[0;36m, line \u001b[0;32m1\u001b[0m\n\u001b[0;31m    dowload bert.json\u001b[0m\n\u001b[0m            ^\u001b[0m\n\u001b[0;31mSyntaxError\u001b[0m\u001b[0;31m:\u001b[0m invalid syntax\n"
          ]
        }
      ]
    }
  ],
  "metadata": {
    "kernelspec": {
      "display_name": "Python 3",
      "name": "python3"
    },
    "language_info": {
      "codemirror_mode": {
        "name": "ipython",
        "version": 3
      },
      "file_extension": ".py",
      "mimetype": "text/x-python",
      "name": "python",
      "nbconvert_exporter": "python",
      "pygments_lexer": "ipython3",
      "version": "3.10.16"
    },
    "colab": {
      "provenance": [],
      "gpuType": "T4"
    },
    "accelerator": "GPU"
  },
  "nbformat": 4,
  "nbformat_minor": 0
}