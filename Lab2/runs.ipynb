{
 "cells": [
  {
   "cell_type": "code",
   "execution_count": 1,
   "metadata": {},
   "outputs": [
    {
     "name": "stderr",
     "output_type": "stream",
     "text": [
      "/home/diego/.cache/pypoetry/virtualenvs/alc-labs-YcA1Gacw-py3.10/lib/python3.10/site-packages/tqdm/auto.py:21: TqdmWarning: IProgress not found. Please update jupyter and ipywidgets. See https://ipywidgets.readthedocs.io/en/stable/user_install.html\n",
      "  from .autonotebook import tqdm as notebook_tqdm\n"
     ]
    }
   ],
   "source": [
    "from resultados import main"
   ]
  },
  {
   "cell_type": "code",
   "execution_count": 2,
   "metadata": {},
   "outputs": [
    {
     "name": "stdout",
     "output_type": "stream",
     "text": [
      "Blip:  0\n",
      "Mami:  True\n",
      "Gen Test:  False\n",
      "SVC\n",
      "0.6862 0.6825\n",
      "RF\n",
      "0.6771 0.6773\n",
      "Blip:  0\n",
      "Mami:  False\n",
      "Gen Test:  False\n",
      "SVC\n",
      "0.6844 0.672\n",
      "RF\n",
      "0.6569 0.6381\n",
      "Blip:  1\n",
      "Mami:  True\n",
      "Gen Test:  False\n",
      "SVC\n",
      "0.5835 0.5877\n",
      "RF\n",
      "0.5817 0.5867\n",
      "Blip:  1\n",
      "Mami:  False\n",
      "Gen Test:  False\n",
      "SVC\n",
      "0.6073 0.5934\n",
      "RF\n",
      "0.5817 0.5574\n",
      "Blip:  2\n",
      "Mami:  True\n",
      "Gen Test:  False\n",
      "SVC\n",
      "0.7064 0.7044\n",
      "RF\n",
      "0.6734 0.6661\n",
      "Blip:  2\n",
      "Mami:  False\n",
      "Gen Test:  False\n",
      "SVC\n",
      "0.6807 0.6711\n",
      "RF\n",
      "0.6624 0.6458\n"
     ]
    }
   ],
   "source": [
    "for b in range(3):\n",
    "    for m in [True, False]:\n",
    "        main(b, m)"
   ]
  },
  {
   "cell_type": "code",
   "execution_count": 2,
   "metadata": {},
   "outputs": [
    {
     "name": "stdout",
     "output_type": "stream",
     "text": [
      "Blip:  2\n",
      "Mami:  True\n",
      "Gen Test:  True\n",
      "Blip:  0\n",
      "Mami:  True\n",
      "Gen Test:  True\n"
     ]
    }
   ],
   "source": [
    "# gen outputs with best params\n",
    "\n",
    "main(2, True, True, \"SVC\")\n",
    "main(0, True, True, \"RF\")"
   ]
  }
 ],
 "metadata": {
  "kernelspec": {
   "display_name": "alc-labs-YcA1Gacw-py3.10",
   "language": "python",
   "name": "python3"
  },
  "language_info": {
   "codemirror_mode": {
    "name": "ipython",
    "version": 3
   },
   "file_extension": ".py",
   "mimetype": "text/x-python",
   "name": "python",
   "nbconvert_exporter": "python",
   "pygments_lexer": "ipython3",
   "version": "3.10.16"
  }
 },
 "nbformat": 4,
 "nbformat_minor": 2
}
