{
 "cells": [
  {
   "cell_type": "code",
   "execution_count": 1,
   "id": "f970ce8d",
   "metadata": {},
   "outputs": [],
   "source": [
    "# %load_ext autoreload\n",
    "# %autoreload 2"
   ]
  },
  {
   "cell_type": "code",
   "execution_count": 1,
   "id": "276d880b",
   "metadata": {},
   "outputs": [
    {
     "name": "stderr",
     "output_type": "stream",
     "text": [
      "/home/diego/.cache/pypoetry/virtualenvs/alc-labs-YcA1Gacw-py3.10/lib/python3.10/site-packages/tqdm/auto.py:21: TqdmWarning: IProgress not found. Please update jupyter and ipywidgets. See https://ipywidgets.readthedocs.io/en/stable/user_install.html\n",
      "  from .autonotebook import tqdm as notebook_tqdm\n"
     ]
    }
   ],
   "source": [
    "from dataloader import load_data_json\n",
    "from train import BertTrainerWrapper"
   ]
  },
  {
   "cell_type": "code",
   "execution_count": 3,
   "id": "b14667a5",
   "metadata": {},
   "outputs": [
    {
     "data": {
      "text/html": [
       "<div>\n",
       "<style scoped>\n",
       "    .dataframe tbody tr th:only-of-type {\n",
       "        vertical-align: middle;\n",
       "    }\n",
       "\n",
       "    .dataframe tbody tr th {\n",
       "        vertical-align: top;\n",
       "    }\n",
       "\n",
       "    .dataframe thead th {\n",
       "        text-align: right;\n",
       "    }\n",
       "</style>\n",
       "<table border=\"1\" class=\"dataframe\">\n",
       "  <thead>\n",
       "    <tr style=\"text-align: right;\">\n",
       "      <th></th>\n",
       "      <th>id</th>\n",
       "      <th>text</th>\n",
       "      <th>label1</th>\n",
       "      <th>label2</th>\n",
       "      <th>label3</th>\n",
       "      <th>split</th>\n",
       "    </tr>\n",
       "  </thead>\n",
       "  <tbody>\n",
       "    <tr>\n",
       "      <th>0</th>\n",
       "      <td>120001</td>\n",
       "      <td>cuando ves a las del 08 en la fiesta tu amigo...</td>\n",
       "      <td>{'YES': 0.6666666666666666, 'NO': 0.3333333333...</td>\n",
       "      <td>{'-': 0.3333333333333333, 'DIRECT': 0.66666666...</td>\n",
       "      <td>{'-': 0.3333333333333333, 'IDEOLOGICAL-INEQUAL...</td>\n",
       "      <td>TRAIN-VIDEO_ES</td>\n",
       "    </tr>\n",
       "    <tr>\n",
       "      <th>1</th>\n",
       "      <td>120002</td>\n",
       "      <td>mujer sola caminando por la calle | yo automat...</td>\n",
       "      <td>{'YES': 1.0, 'NO': 0.0}</td>\n",
       "      <td>{'-': 0.0, 'DIRECT': 1.0, 'JUDGEMENTAL': 0.0}</td>\n",
       "      <td>{'-': 0.0, 'IDEOLOGICAL-INEQUALITY': 0.0, 'STE...</td>\n",
       "      <td>TRAIN-VIDEO_ES</td>\n",
       "    </tr>\n",
       "    <tr>\n",
       "      <th>2</th>\n",
       "      <td>120003</td>\n",
       "      <td>mi amigo no le importa ni las mujeres ni las ...</td>\n",
       "      <td>{'YES': 0.0, 'NO': 1.0}</td>\n",
       "      <td>{'-': 1.0, 'DIRECT': 0.0, 'JUDGEMENTAL': 0.0}</td>\n",
       "      <td>{'-': 1.0, 'IDEOLOGICAL-INEQUALITY': 0.0, 'STE...</td>\n",
       "      <td>TRAIN-VIDEO_ES</td>\n",
       "    </tr>\n",
       "    <tr>\n",
       "      <th>3</th>\n",
       "      <td>120004</td>\n",
       "      <td>confirman las chicas cogiendo confianza despué...</td>\n",
       "      <td>{'YES': 0.6666666666666666, 'NO': 0.3333333333...</td>\n",
       "      <td>{'-': 0.3333333333333333, 'DIRECT': 0.66666666...</td>\n",
       "      <td>{'-': 0.3333333333333333, 'IDEOLOGICAL-INEQUAL...</td>\n",
       "      <td>TRAIN-VIDEO_ES</td>\n",
       "    </tr>\n",
       "    <tr>\n",
       "      <th>4</th>\n",
       "      <td>120005</td>\n",
       "      <td>aplastar la realidad la gordita del salón tien...</td>\n",
       "      <td>{'YES': 1.0, 'NO': 0.0}</td>\n",
       "      <td>{'-': 0.0, 'DIRECT': 1.0, 'JUDGEMENTAL': 0.0}</td>\n",
       "      <td>{'-': 0.0, 'IDEOLOGICAL-INEQUALITY': 0.0, 'STE...</td>\n",
       "      <td>TRAIN-VIDEO_ES</td>\n",
       "    </tr>\n",
       "    <tr>\n",
       "      <th>...</th>\n",
       "      <td>...</td>\n",
       "      <td>...</td>\n",
       "      <td>...</td>\n",
       "      <td>...</td>\n",
       "      <td>...</td>\n",
       "      <td>...</td>\n",
       "    </tr>\n",
       "    <tr>\n",
       "      <th>2519</th>\n",
       "      <td>121520</td>\n",
       "      <td>temach le contesta a juan guarnizo 'compa_revj...</td>\n",
       "      <td>{'YES': 1.0, 'NO': 0.0}</td>\n",
       "      <td>{'-': 0.0, 'DIRECT': 1.0, 'JUDGEMENTAL': 0.0}</td>\n",
       "      <td>{'-': 0.0, 'IDEOLOGICAL-INEQUALITY': 0.5, 'STE...</td>\n",
       "      <td>TRAIN-VIDEO_ES</td>\n",
       "    </tr>\n",
       "    <tr>\n",
       "      <th>2520</th>\n",
       "      <td>121521</td>\n",
       "      <td>sígueme, persona, rk, nik, meuk, ad0, mefor, ...</td>\n",
       "      <td>{'YES': 0.0, 'NO': 1.0}</td>\n",
       "      <td>{'-': 1.0, 'DIRECT': 0.0, 'JUDGEMENTAL': 0.0}</td>\n",
       "      <td>{'-': 1.0, 'IDEOLOGICAL-INEQUALITY': 0.0, 'STE...</td>\n",
       "      <td>TRAIN-VIDEO_ES</td>\n",
       "    </tr>\n",
       "    <tr>\n",
       "      <th>2521</th>\n",
       "      <td>121522</td>\n",
       "      <td>vas a seguir regalando flores? no regales ni a...</td>\n",
       "      <td>{'YES': 1.0, 'NO': 0.0}</td>\n",
       "      <td>{'-': 0.0, 'DIRECT': 1.0, 'JUDGEMENTAL': 0.0}</td>\n",
       "      <td>{'-': 0.0, 'IDEOLOGICAL-INEQUALITY': 0.0, 'STE...</td>\n",
       "      <td>TRAIN-VIDEO_ES</td>\n",
       "    </tr>\n",
       "    <tr>\n",
       "      <th>2522</th>\n",
       "      <td>121523</td>\n",
       "      <td>héctor dice que el sábado puse un pedo en cas...</td>\n",
       "      <td>{'YES': 0.0, 'NO': 1.0}</td>\n",
       "      <td>{'-': 1.0, 'DIRECT': 0.0, 'JUDGEMENTAL': 0.0}</td>\n",
       "      <td>{'-': 1.0, 'IDEOLOGICAL-INEQUALITY': 0.0, 'STE...</td>\n",
       "      <td>TRAIN-VIDEO_ES</td>\n",
       "    </tr>\n",
       "    <tr>\n",
       "      <th>2523</th>\n",
       "      <td>121524</td>\n",
       "      <td>palabras que duelen  broken_heart  femach 8766...</td>\n",
       "      <td>{'YES': 0.0, 'NO': 1.0}</td>\n",
       "      <td>{'-': 1.0, 'DIRECT': 0.0, 'JUDGEMENTAL': 0.0}</td>\n",
       "      <td>{'-': 1.0, 'IDEOLOGICAL-INEQUALITY': 0.0, 'STE...</td>\n",
       "      <td>TRAIN-VIDEO_ES</td>\n",
       "    </tr>\n",
       "  </tbody>\n",
       "</table>\n",
       "<p>2524 rows × 6 columns</p>\n",
       "</div>"
      ],
      "text/plain": [
       "          id                                               text  \\\n",
       "0     120001   cuando ves a las del 08 en la fiesta tu amigo...   \n",
       "1     120002  mujer sola caminando por la calle | yo automat...   \n",
       "2     120003   mi amigo no le importa ni las mujeres ni las ...   \n",
       "3     120004  confirman las chicas cogiendo confianza despué...   \n",
       "4     120005  aplastar la realidad la gordita del salón tien...   \n",
       "...      ...                                                ...   \n",
       "2519  121520  temach le contesta a juan guarnizo 'compa_revj...   \n",
       "2520  121521   sígueme, persona, rk, nik, meuk, ad0, mefor, ...   \n",
       "2521  121522  vas a seguir regalando flores? no regales ni a...   \n",
       "2522  121523   héctor dice que el sábado puse un pedo en cas...   \n",
       "2523  121524  palabras que duelen  broken_heart  femach 8766...   \n",
       "\n",
       "                                                 label1  \\\n",
       "0     {'YES': 0.6666666666666666, 'NO': 0.3333333333...   \n",
       "1                               {'YES': 1.0, 'NO': 0.0}   \n",
       "2                               {'YES': 0.0, 'NO': 1.0}   \n",
       "3     {'YES': 0.6666666666666666, 'NO': 0.3333333333...   \n",
       "4                               {'YES': 1.0, 'NO': 0.0}   \n",
       "...                                                 ...   \n",
       "2519                            {'YES': 1.0, 'NO': 0.0}   \n",
       "2520                            {'YES': 0.0, 'NO': 1.0}   \n",
       "2521                            {'YES': 1.0, 'NO': 0.0}   \n",
       "2522                            {'YES': 0.0, 'NO': 1.0}   \n",
       "2523                            {'YES': 0.0, 'NO': 1.0}   \n",
       "\n",
       "                                                 label2  \\\n",
       "0     {'-': 0.3333333333333333, 'DIRECT': 0.66666666...   \n",
       "1         {'-': 0.0, 'DIRECT': 1.0, 'JUDGEMENTAL': 0.0}   \n",
       "2         {'-': 1.0, 'DIRECT': 0.0, 'JUDGEMENTAL': 0.0}   \n",
       "3     {'-': 0.3333333333333333, 'DIRECT': 0.66666666...   \n",
       "4         {'-': 0.0, 'DIRECT': 1.0, 'JUDGEMENTAL': 0.0}   \n",
       "...                                                 ...   \n",
       "2519      {'-': 0.0, 'DIRECT': 1.0, 'JUDGEMENTAL': 0.0}   \n",
       "2520      {'-': 1.0, 'DIRECT': 0.0, 'JUDGEMENTAL': 0.0}   \n",
       "2521      {'-': 0.0, 'DIRECT': 1.0, 'JUDGEMENTAL': 0.0}   \n",
       "2522      {'-': 1.0, 'DIRECT': 0.0, 'JUDGEMENTAL': 0.0}   \n",
       "2523      {'-': 1.0, 'DIRECT': 0.0, 'JUDGEMENTAL': 0.0}   \n",
       "\n",
       "                                                 label3           split  \n",
       "0     {'-': 0.3333333333333333, 'IDEOLOGICAL-INEQUAL...  TRAIN-VIDEO_ES  \n",
       "1     {'-': 0.0, 'IDEOLOGICAL-INEQUALITY': 0.0, 'STE...  TRAIN-VIDEO_ES  \n",
       "2     {'-': 1.0, 'IDEOLOGICAL-INEQUALITY': 0.0, 'STE...  TRAIN-VIDEO_ES  \n",
       "3     {'-': 0.3333333333333333, 'IDEOLOGICAL-INEQUAL...  TRAIN-VIDEO_ES  \n",
       "4     {'-': 0.0, 'IDEOLOGICAL-INEQUALITY': 0.0, 'STE...  TRAIN-VIDEO_ES  \n",
       "...                                                 ...             ...  \n",
       "2519  {'-': 0.0, 'IDEOLOGICAL-INEQUALITY': 0.5, 'STE...  TRAIN-VIDEO_ES  \n",
       "2520  {'-': 1.0, 'IDEOLOGICAL-INEQUALITY': 0.0, 'STE...  TRAIN-VIDEO_ES  \n",
       "2521  {'-': 0.0, 'IDEOLOGICAL-INEQUALITY': 0.0, 'STE...  TRAIN-VIDEO_ES  \n",
       "2522  {'-': 1.0, 'IDEOLOGICAL-INEQUALITY': 0.0, 'STE...  TRAIN-VIDEO_ES  \n",
       "2523  {'-': 1.0, 'IDEOLOGICAL-INEQUALITY': 0.0, 'STE...  TRAIN-VIDEO_ES  \n",
       "\n",
       "[2524 rows x 6 columns]"
      ]
     },
     "execution_count": 3,
     "metadata": {},
     "output_type": "execute_result"
    }
   ],
   "source": [
    "data=load_data_json(\"data/EXIST2025_training_videos.json\")\n",
    "data"
   ]
  },
  {
   "cell_type": "code",
   "execution_count": 2,
   "id": "5a324c6a",
   "metadata": {},
   "outputs": [
    {
     "name": "stderr",
     "output_type": "stream",
     "text": [
      "Map: 100%|██████████| 2019/2019 [00:02<00:00, 892.39 examples/s] \n",
      "Map: 100%|██████████| 505/505 [00:00<00:00, 895.56 examples/s] \n",
      "Some weights of BertForSequenceClassification were not initialized from the model checkpoint at bert-base-multilingual-cased and are newly initialized: ['classifier.bias', 'classifier.weight']\n",
      "You should probably TRAIN this model on a down-stream task to be able to use it for predictions and inference.\n",
      "/home/diego/code/ALCLabs/Exist2025/train.py:104: FutureWarning: `tokenizer` is deprecated and will be removed in version 5.0.0 for `Trainer.__init__`. Use `processing_class` instead.\n",
      "  trainer = Trainer(\n"
     ]
    },
    {
     "data": {
      "text/html": [
       "\n",
       "    <div>\n",
       "      \n",
       "      <progress value='759' max='759' style='width:300px; height:20px; vertical-align: middle;'></progress>\n",
       "      [759/759 42:38, Epoch 3/3]\n",
       "    </div>\n",
       "    <table border=\"1\" class=\"dataframe\">\n",
       "  <thead>\n",
       " <tr style=\"text-align: left;\">\n",
       "      <th>Epoch</th>\n",
       "      <th>Training Loss</th>\n",
       "      <th>Validation Loss</th>\n",
       "      <th>Mae</th>\n",
       "      <th>Logloss</th>\n",
       "      <th>F1 Micro</th>\n",
       "      <th>F1 Macro</th>\n",
       "    </tr>\n",
       "  </thead>\n",
       "  <tbody>\n",
       "    <tr>\n",
       "      <td>1</td>\n",
       "      <td>No log</td>\n",
       "      <td>0.645516</td>\n",
       "      <td>0.379345</td>\n",
       "      <td>0.646382</td>\n",
       "      <td>0.606931</td>\n",
       "      <td>0.531651</td>\n",
       "    </tr>\n",
       "    <tr>\n",
       "      <td>2</td>\n",
       "      <td>0.629500</td>\n",
       "      <td>0.612541</td>\n",
       "      <td>0.336466</td>\n",
       "      <td>0.594618</td>\n",
       "      <td>0.699010</td>\n",
       "      <td>0.696193</td>\n",
       "    </tr>\n",
       "    <tr>\n",
       "      <td>3</td>\n",
       "      <td>0.629500</td>\n",
       "      <td>0.670728</td>\n",
       "      <td>0.338980</td>\n",
       "      <td>0.657811</td>\n",
       "      <td>0.670297</td>\n",
       "      <td>0.663846</td>\n",
       "    </tr>\n",
       "  </tbody>\n",
       "</table><p>"
      ],
      "text/plain": [
       "<IPython.core.display.HTML object>"
      ]
     },
     "metadata": {},
     "output_type": "display_data"
    }
   ],
   "source": [
    "bert1 = BertTrainerWrapper(soft=True)\n",
    "bert1.train(epochs=3)"
   ]
  },
  {
   "cell_type": "code",
   "execution_count": 4,
   "id": "c2fa2f48",
   "metadata": {},
   "outputs": [
    {
     "data": {
      "text/plain": [
       "[{'NO': 0.14058838784694672, 'YES': 0.8390621542930603}]"
      ]
     },
     "execution_count": 4,
     "metadata": {},
     "output_type": "execute_result"
    }
   ],
   "source": [
    "bert1.predict(\" confirman las chicas cogiendo confianza después de un año de conocerse, junto a unos randoms que acabo de encontrar por la calle. como camarón, me rompen las entrañas, me trepa como una araña, bebe el azúcar que empaña cristales de habitación, pide un par por la mañana de \\\"pronto y no tengo\\\".piu-toi-no-ten\")"
   ]
  },
  {
   "cell_type": "code",
   "execution_count": 5,
   "id": "7afecc8b",
   "metadata": {},
   "outputs": [
    {
     "name": "stderr",
     "output_type": "stream",
     "text": [
      "Map: 100%|██████████| 1972/1972 [00:02<00:00, 787.28 examples/s]\n",
      "Map: 100%|██████████| 494/494 [00:00<00:00, 663.46 examples/s]\n",
      "Some weights of BertForSequenceClassification were not initialized from the model checkpoint at bert-base-multilingual-cased and are newly initialized: ['classifier.bias', 'classifier.weight']\n",
      "You should probably TRAIN this model on a down-stream task to be able to use it for predictions and inference.\n",
      "/home/diego/code/ALCLabs/Exist2025/train.py:104: FutureWarning: `tokenizer` is deprecated and will be removed in version 5.0.0 for `Trainer.__init__`. Use `processing_class` instead.\n",
      "  trainer = Trainer(\n"
     ]
    },
    {
     "data": {
      "text/html": [
       "\n",
       "    <div>\n",
       "      \n",
       "      <progress value='741' max='741' style='width:300px; height:20px; vertical-align: middle;'></progress>\n",
       "      [741/741 1:02:05, Epoch 3/3]\n",
       "    </div>\n",
       "    <table border=\"1\" class=\"dataframe\">\n",
       "  <thead>\n",
       " <tr style=\"text-align: left;\">\n",
       "      <th>Epoch</th>\n",
       "      <th>Training Loss</th>\n",
       "      <th>Validation Loss</th>\n",
       "      <th>Accuracy</th>\n",
       "    </tr>\n",
       "  </thead>\n",
       "  <tbody>\n",
       "    <tr>\n",
       "      <td>1</td>\n",
       "      <td>No log</td>\n",
       "      <td>0.910828</td>\n",
       "      <td>0.564777</td>\n",
       "    </tr>\n",
       "    <tr>\n",
       "      <td>2</td>\n",
       "      <td>No log</td>\n",
       "      <td>0.895482</td>\n",
       "      <td>0.601215</td>\n",
       "    </tr>\n",
       "    <tr>\n",
       "      <td>3</td>\n",
       "      <td>0.919300</td>\n",
       "      <td>0.921722</td>\n",
       "      <td>0.595142</td>\n",
       "    </tr>\n",
       "  </tbody>\n",
       "</table><p>"
      ],
      "text/plain": [
       "<IPython.core.display.HTML object>"
      ]
     },
     "metadata": {},
     "output_type": "display_data"
    }
   ],
   "source": [
    "bert2 = BertTrainerWrapper(soft=False,label_name=\"label2\")\n",
    "bert2.train(epochs=3)"
   ]
  },
  {
   "cell_type": "code",
   "execution_count": 6,
   "id": "d44c225f",
   "metadata": {},
   "outputs": [
    {
     "data": {
      "text/plain": [
       "array(['DIRECT'], dtype=object)"
      ]
     },
     "execution_count": 6,
     "metadata": {},
     "output_type": "execute_result"
    }
   ],
   "source": [
    "bert2.predict(\" confirman las chicas cogiendo confianza después de un año de conocerse, junto a unos randoms que acabo de encontrar por la calle. como camarón, me rompen las entrañas, me trepa como una araña, bebe el azúcar que empaña cristales de habitación, pide un par por la mañana de \\\"pronto y no tengo\\\".piu-toi-no-ten\")"
   ]
  }
 ],
 "metadata": {
  "kernelspec": {
   "display_name": "alc-labs-YcA1Gacw-py3.10",
   "language": "python",
   "name": "python3"
  },
  "language_info": {
   "codemirror_mode": {
    "name": "ipython",
    "version": 3
   },
   "file_extension": ".py",
   "mimetype": "text/x-python",
   "name": "python",
   "nbconvert_exporter": "python",
   "pygments_lexer": "ipython3",
   "version": "3.10.16"
  }
 },
 "nbformat": 4,
 "nbformat_minor": 5
}
