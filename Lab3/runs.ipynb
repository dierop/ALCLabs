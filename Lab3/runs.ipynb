{
 "cells": [
  {
   "cell_type": "code",
   "execution_count": 1,
   "metadata": {},
   "outputs": [
    {
     "name": "stderr",
     "output_type": "stream",
     "text": [
      "/home/diego/.cache/pypoetry/virtualenvs/alc-labs-YcA1Gacw-py3.10/lib/python3.10/site-packages/tqdm/auto.py:21: TqdmWarning: IProgress not found. Please update jupyter and ipywidgets. See https://ipywidgets.readthedocs.io/en/stable/user_install.html\n",
      "  from .autonotebook import tqdm as notebook_tqdm\n"
     ]
    }
   ],
   "source": [
    "from resultados import main"
   ]
  },
  {
   "cell_type": "code",
   "execution_count": 3,
   "metadata": {},
   "outputs": [
    {
     "name": "stdout",
     "output_type": "stream",
     "text": [
      "Epoch 1/5, Loss: 0.6804\n",
      "Epoch 2/5, Loss: 0.5502\n",
      "Epoch 3/5, Loss: 0.3410\n",
      "Epoch 4/5, Loss: 0.1650\n",
      "Epoch 5/5, Loss: 0.0664\n",
      "0.6918 0.6917\n"
     ]
    }
   ],
   "source": [
    "main(language=[\"EN\"], model_name='bert-base-uncased')"
   ]
  },
  {
   "cell_type": "code",
   "execution_count": 3,
   "metadata": {},
   "outputs": [
    {
     "name": "stderr",
     "output_type": "stream",
     "text": [
      "Some weights of BertModel were not initialized from the model checkpoint at dccuchile/bert-base-spanish-wwm-cased and are newly initialized: ['bert.pooler.dense.bias', 'bert.pooler.dense.weight']\n",
      "You should probably TRAIN this model on a down-stream task to be able to use it for predictions and inference.\n"
     ]
    },
    {
     "name": "stdout",
     "output_type": "stream",
     "text": [
      "Epoch 1/5, Loss: 0.6644\n",
      "Epoch 2/5, Loss: 0.5261\n",
      "Epoch 3/5, Loss: 0.2990\n",
      "Epoch 4/5, Loss: 0.0815\n",
      "Epoch 5/5, Loss: 0.0760\n",
      "0.5926 0.5819\n"
     ]
    }
   ],
   "source": [
    "main(language=[\"ES\"], model_name='dccuchile/bert-base-spanish-wwm-cased')"
   ]
  },
  {
   "cell_type": "code",
   "execution_count": 3,
   "metadata": {},
   "outputs": [
    {
     "name": "stdout",
     "output_type": "stream",
     "text": [
      "Epoch 1/5, Loss: 0.6846\n",
      "Epoch 2/5, Loss: 0.6180\n",
      "Epoch 3/5, Loss: 0.4819\n",
      "Epoch 4/5, Loss: 0.3261\n",
      "Epoch 5/5, Loss: 0.1636\n",
      "0.6716 0.6697\n"
     ]
    }
   ],
   "source": [
    "main(language=[\"ES\",\"EN\"], model_name='bert-base-uncased')"
   ]
  },
  {
   "cell_type": "code",
   "execution_count": 4,
   "metadata": {},
   "outputs": [
    {
     "name": "stderr",
     "output_type": "stream",
     "text": [
      "BertSdpaSelfAttention is used but `torch.nn.functional.scaled_dot_product_attention` does not support non-absolute `position_embedding_type` or `output_attentions=True` or `head_mask`. Falling back to the manual attention implementation, but specifying the manual implementation will be required from Transformers version v5.0.0 onwards. This warning can be removed using the argument `attn_implementation=\"eager\"` when loading the model.\n"
     ]
    },
    {
     "name": "stdout",
     "output_type": "stream",
     "text": [
      "Epoch 1/5, Loss: 0.6721\n",
      "Epoch 2/5, Loss: 0.5905\n",
      "Epoch 3/5, Loss: 0.4771\n",
      "Epoch 4/5, Loss: 0.3248\n",
      "Epoch 5/5, Loss: 0.2297\n",
      "0.6965 0.6952\n"
     ]
    }
   ],
   "source": [
    "main(language=[\"ES\",\"EN\"], model_name='hate-speech-CNERG/bert-base-uncased-hatexplain')"
   ]
  },
  {
   "cell_type": "code",
   "execution_count": null,
   "metadata": {},
   "outputs": [
    {
     "name": "stdout",
     "output_type": "stream",
     "text": [
      "Generando test\n"
     ]
    }
   ],
   "source": [
    "main(language=[\"ES\",\"EN\"], model_name='bert-base-uncased', gen_test=True)"
   ]
  }
 ],
 "metadata": {
  "kernelspec": {
   "display_name": "alc-labs-YcA1Gacw-py3.10",
   "language": "python",
   "name": "python3"
  },
  "language_info": {
   "codemirror_mode": {
    "name": "ipython",
    "version": 3
   },
   "file_extension": ".py",
   "mimetype": "text/x-python",
   "name": "python",
   "nbconvert_exporter": "python",
   "pygments_lexer": "ipython3",
   "version": "3.10.16"
  }
 },
 "nbformat": 4,
 "nbformat_minor": 2
}
