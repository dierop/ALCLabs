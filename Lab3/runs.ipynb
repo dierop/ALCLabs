{
 "cells": [
  {
   "cell_type": "code",
   "execution_count": 1,
   "metadata": {},
   "outputs": [
    {
     "name": "stderr",
     "output_type": "stream",
     "text": [
      "/home/diego/.cache/pypoetry/virtualenvs/alc-labs-YcA1Gacw-py3.10/lib/python3.10/site-packages/tqdm/auto.py:21: TqdmWarning: IProgress not found. Please update jupyter and ipywidgets. See https://ipywidgets.readthedocs.io/en/stable/user_install.html\n",
      "  from .autonotebook import tqdm as notebook_tqdm\n"
     ]
    }
   ],
   "source": [
    "from resultados import main"
   ]
  },
  {
   "cell_type": "code",
   "execution_count": null,
   "metadata": {},
   "outputs": [
    {
     "name": "stdout",
     "output_type": "stream",
     "text": [
      "Epoch 1/3, Loss: 0.6992\n",
      "Epoch 2/3, Loss: 0.5740\n",
      "Epoch 3/3, Loss: 0.3553\n",
      "0.6981 0.6972\n"
     ]
    }
   ],
   "source": [
    "main(language=[\"EN\"], model_name='bert-base-uncased')"
   ]
  },
  {
   "cell_type": "code",
   "execution_count": null,
   "metadata": {},
   "outputs": [
    {
     "name": "stdout",
     "output_type": "stream",
     "text": [
      "Epoch 1/3, Loss: 0.7004\n",
      "Epoch 2/3, Loss: 0.6781\n",
      "Epoch 3/3, Loss: 0.6658\n",
      "0.6173 0.6178\n"
     ]
    }
   ],
   "source": [
    "main(language=[\"ES\"], model_name='dccuchile/bert-base-spanish-wwm-cased')"
   ]
  },
  {
   "cell_type": "code",
   "execution_count": 3,
   "metadata": {},
   "outputs": [
    {
     "name": "stdout",
     "output_type": "stream",
     "text": [
      "Epoch 1/3, Loss: 0.6975\n",
      "Epoch 2/3, Loss: 0.6140\n",
      "Epoch 3/3, Loss: 0.5230\n",
      "0.6667 0.6667\n"
     ]
    }
   ],
   "source": [
    "main(language=[\"ES\",\"EN\"], model_name='bert-base-uncased')"
   ]
  },
  {
   "cell_type": "code",
   "execution_count": 2,
   "metadata": {},
   "outputs": [
    {
     "name": "stdout",
     "output_type": "stream",
     "text": [
      "Epoch 1/3, Loss: 0.6905\n",
      "Epoch 2/3, Loss: 0.6175\n",
      "Epoch 3/3, Loss: 0.5315\n",
      "0.6468 0.639\n"
     ]
    }
   ],
   "source": [
    "main(language=[\"ES\",\"EN\"], model_name='hate-speech-CNERG/bert-base-uncased-hatexplain')"
   ]
  }
 ],
 "metadata": {
  "kernelspec": {
   "display_name": "alc-labs-YcA1Gacw-py3.10",
   "language": "python",
   "name": "python3"
  },
  "language_info": {
   "codemirror_mode": {
    "name": "ipython",
    "version": 3
   },
   "file_extension": ".py",
   "mimetype": "text/x-python",
   "name": "python",
   "nbconvert_exporter": "python",
   "pygments_lexer": "ipython3",
   "version": "3.10.16"
  }
 },
 "nbformat": 4,
 "nbformat_minor": 2
}
